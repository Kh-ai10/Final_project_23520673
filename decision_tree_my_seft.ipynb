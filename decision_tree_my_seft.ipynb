{
 "cells": [
  {
   "cell_type": "code",
   "execution_count": 108,
   "metadata": {},
   "outputs": [],
   "source": [
    "#import module \n",
    "import pandas as pd\n",
    "import numpy as np\n",
    "import random\n"
   ]
  },
  {
   "cell_type": "code",
   "execution_count": 109,
   "metadata": {},
   "outputs": [
    {
     "name": "stdout",
     "output_type": "stream",
     "text": [
      "   Id  SepalLengthCm  SepalWidthCm  PetalLengthCm  PetalWidthCm      Species\n",
      "0   1            5.1           3.5            1.4           0.2  Iris-setosa\n",
      "1   2            4.9           3.0            1.4           0.2  Iris-setosa\n",
      "2   3            4.7           3.2            1.3           0.2  Iris-setosa\n",
      "3   4            4.6           3.1            1.5           0.2  Iris-setosa\n",
      "4   5            5.0           3.6            1.4           0.2  Iris-setosa\n",
      "5   6            5.4           3.9            1.7           0.4  Iris-setosa\n",
      "6   7            4.6           3.4            1.4           0.3  Iris-setosa\n",
      "7   8            5.0           3.4            1.5           0.2  Iris-setosa\n",
      "8   9            4.4           2.9            1.4           0.2  Iris-setosa\n",
      "9  10            4.9           3.1            1.5           0.1  Iris-setosa\n"
     ]
    }
   ],
   "source": [
    "#load dataset\n",
    "dataFrame = pd.read_csv(\"C:/Users/Admin/OneDrive/Documents/UIT/DSA/Đồ án cuối kì/Iris.csv\")\n",
    "print(dataFrame.head(10))   #in ra 10 hàng đầu tiên"
   ]
  },
  {
   "cell_type": "code",
   "execution_count": 110,
   "metadata": {},
   "outputs": [
    {
     "data": {
      "text/html": [
       "<div>\n",
       "<style scoped>\n",
       "    .dataframe tbody tr th:only-of-type {\n",
       "        vertical-align: middle;\n",
       "    }\n",
       "\n",
       "    .dataframe tbody tr th {\n",
       "        vertical-align: top;\n",
       "    }\n",
       "\n",
       "    .dataframe thead th {\n",
       "        text-align: right;\n",
       "    }\n",
       "</style>\n",
       "<table border=\"1\" class=\"dataframe\">\n",
       "  <thead>\n",
       "    <tr style=\"text-align: right;\">\n",
       "      <th></th>\n",
       "      <th>SepalLengthCm</th>\n",
       "      <th>SepalWidthCm</th>\n",
       "      <th>PetalLengthCm</th>\n",
       "      <th>PetalWidthCm</th>\n",
       "      <th>Species</th>\n",
       "    </tr>\n",
       "  </thead>\n",
       "  <tbody>\n",
       "    <tr>\n",
       "      <th>0</th>\n",
       "      <td>5.1</td>\n",
       "      <td>3.5</td>\n",
       "      <td>1.4</td>\n",
       "      <td>0.2</td>\n",
       "      <td>Iris-setosa</td>\n",
       "    </tr>\n",
       "    <tr>\n",
       "      <th>1</th>\n",
       "      <td>4.9</td>\n",
       "      <td>3.0</td>\n",
       "      <td>1.4</td>\n",
       "      <td>0.2</td>\n",
       "      <td>Iris-setosa</td>\n",
       "    </tr>\n",
       "    <tr>\n",
       "      <th>2</th>\n",
       "      <td>4.7</td>\n",
       "      <td>3.2</td>\n",
       "      <td>1.3</td>\n",
       "      <td>0.2</td>\n",
       "      <td>Iris-setosa</td>\n",
       "    </tr>\n",
       "    <tr>\n",
       "      <th>3</th>\n",
       "      <td>4.6</td>\n",
       "      <td>3.1</td>\n",
       "      <td>1.5</td>\n",
       "      <td>0.2</td>\n",
       "      <td>Iris-setosa</td>\n",
       "    </tr>\n",
       "    <tr>\n",
       "      <th>4</th>\n",
       "      <td>5.0</td>\n",
       "      <td>3.6</td>\n",
       "      <td>1.4</td>\n",
       "      <td>0.2</td>\n",
       "      <td>Iris-setosa</td>\n",
       "    </tr>\n",
       "    <tr>\n",
       "      <th>...</th>\n",
       "      <td>...</td>\n",
       "      <td>...</td>\n",
       "      <td>...</td>\n",
       "      <td>...</td>\n",
       "      <td>...</td>\n",
       "    </tr>\n",
       "    <tr>\n",
       "      <th>145</th>\n",
       "      <td>6.7</td>\n",
       "      <td>3.0</td>\n",
       "      <td>5.2</td>\n",
       "      <td>2.3</td>\n",
       "      <td>Iris-virginica</td>\n",
       "    </tr>\n",
       "    <tr>\n",
       "      <th>146</th>\n",
       "      <td>6.3</td>\n",
       "      <td>2.5</td>\n",
       "      <td>5.0</td>\n",
       "      <td>1.9</td>\n",
       "      <td>Iris-virginica</td>\n",
       "    </tr>\n",
       "    <tr>\n",
       "      <th>147</th>\n",
       "      <td>6.5</td>\n",
       "      <td>3.0</td>\n",
       "      <td>5.2</td>\n",
       "      <td>2.0</td>\n",
       "      <td>Iris-virginica</td>\n",
       "    </tr>\n",
       "    <tr>\n",
       "      <th>148</th>\n",
       "      <td>6.2</td>\n",
       "      <td>3.4</td>\n",
       "      <td>5.4</td>\n",
       "      <td>2.3</td>\n",
       "      <td>Iris-virginica</td>\n",
       "    </tr>\n",
       "    <tr>\n",
       "      <th>149</th>\n",
       "      <td>5.9</td>\n",
       "      <td>3.0</td>\n",
       "      <td>5.1</td>\n",
       "      <td>1.8</td>\n",
       "      <td>Iris-virginica</td>\n",
       "    </tr>\n",
       "  </tbody>\n",
       "</table>\n",
       "<p>150 rows × 5 columns</p>\n",
       "</div>"
      ],
      "text/plain": [
       "     SepalLengthCm  SepalWidthCm  PetalLengthCm  PetalWidthCm         Species\n",
       "0              5.1           3.5            1.4           0.2     Iris-setosa\n",
       "1              4.9           3.0            1.4           0.2     Iris-setosa\n",
       "2              4.7           3.2            1.3           0.2     Iris-setosa\n",
       "3              4.6           3.1            1.5           0.2     Iris-setosa\n",
       "4              5.0           3.6            1.4           0.2     Iris-setosa\n",
       "..             ...           ...            ...           ...             ...\n",
       "145            6.7           3.0            5.2           2.3  Iris-virginica\n",
       "146            6.3           2.5            5.0           1.9  Iris-virginica\n",
       "147            6.5           3.0            5.2           2.0  Iris-virginica\n",
       "148            6.2           3.4            5.4           2.3  Iris-virginica\n",
       "149            5.9           3.0            5.1           1.8  Iris-virginica\n",
       "\n",
       "[150 rows x 5 columns]"
      ]
     },
     "execution_count": 110,
     "metadata": {},
     "output_type": "execute_result"
    }
   ],
   "source": [
    "#cột ID trùng với cột số thứ tự có sẵn nên ta không cần lấy cột ID \n",
    "dataFrame = dataFrame.drop(\"Id\", axis = 1)\n",
    "dataFrame"
   ]
  },
  {
   "cell_type": "code",
   "execution_count": 111,
   "metadata": {},
   "outputs": [
    {
     "name": "stdout",
     "output_type": "stream",
     "text": [
      "Index(['SepalLengthCm', 'SepalWidthCm', 'PetalLengthCm', 'PetalWidthCm',\n",
      "       'Species'],\n",
      "      dtype='object')\n"
     ]
    }
   ],
   "source": [
    "# print column\n",
    "print(dataFrame.columns)"
   ]
  },
  {
   "cell_type": "code",
   "execution_count": 112,
   "metadata": {},
   "outputs": [
    {
     "name": "stdout",
     "output_type": "stream",
     "text": [
      "       SepalLengthCm  SepalWidthCm  PetalLengthCm  PetalWidthCm\n",
      "count     150.000000    150.000000     150.000000    150.000000\n",
      "mean        5.843333      3.054000       3.758667      1.198667\n",
      "std         0.828066      0.433594       1.764420      0.763161\n",
      "min         4.300000      2.000000       1.000000      0.100000\n",
      "25%         5.100000      2.800000       1.600000      0.300000\n",
      "50%         5.800000      3.000000       4.350000      1.300000\n",
      "75%         6.400000      3.300000       5.100000      1.800000\n",
      "max         7.900000      4.400000       6.900000      2.500000\n"
     ]
    }
   ],
   "source": [
    "#mô tả phân phối data\n",
    "print(dataFrame.describe())"
   ]
  },
  {
   "cell_type": "code",
   "execution_count": 113,
   "metadata": {},
   "outputs": [
    {
     "name": "stdout",
     "output_type": "stream",
     "text": [
      "<class 'pandas.core.frame.DataFrame'>\n",
      "RangeIndex: 150 entries, 0 to 149\n",
      "Data columns (total 5 columns):\n",
      " #   Column         Non-Null Count  Dtype  \n",
      "---  ------         --------------  -----  \n",
      " 0   SepalLengthCm  150 non-null    float64\n",
      " 1   SepalWidthCm   150 non-null    float64\n",
      " 2   PetalLengthCm  150 non-null    float64\n",
      " 3   PetalWidthCm   150 non-null    float64\n",
      " 4   Species        150 non-null    object \n",
      "dtypes: float64(4), object(1)\n",
      "memory usage: 6.0+ KB\n",
      "None\n"
     ]
    }
   ],
   "source": [
    "# Xem thông tin cột (quantity, name, NULL, column type )\n",
    "print(dataFrame.info())"
   ]
  },
  {
   "cell_type": "code",
   "execution_count": 114,
   "metadata": {},
   "outputs": [
    {
     "name": "stdout",
     "output_type": "stream",
     "text": [
      "Species\n",
      "Iris-setosa        50\n",
      "Iris-versicolor    50\n",
      "Iris-virginica     50\n",
      "Name: count, dtype: int64\n"
     ]
    }
   ],
   "source": [
    "#đếm số lượng only value trong label Species\n",
    "print(dataFrame[\"Species\"].value_counts())"
   ]
  },
  {
   "cell_type": "code",
   "execution_count": 115,
   "metadata": {},
   "outputs": [],
   "source": [
    "#train_test_split\n",
    "'''\n",
    "Chia data thành tập train và tập test\n",
    "Train: dùng tập này để huấn luyện model, model sẽ đưa ra dự đoán dựa trên tập này\n",
    "Test: không dùng để train mà dùng để đánh giá hiệu suất model dựa trên dữ liệu mà nó chưa từng nhìn thấy\n",
    "Có thể thay đổi tỉ trọng train_test trong quá trình huấn luyện model\n",
    "'''\n",
    "def train_test_split(data, test_size):\n",
    "    \n",
    "    '''Kiểm tra test_size nếu là số thực thì chuyển về %'''\n",
    "    if isinstance(test_size, float):\n",
    "        test_size = round(test_size * len(data))\n",
    "\n",
    "    '''Lấy index các hàng của data '''\n",
    "    indices = data.index.tolist()\n",
    "\n",
    "    '''Chọn random index dựa vào test_size'''\n",
    "    test_sample = random.sample(population=indices, k=test_size)\n",
    "\n",
    "    '''Lấy các hàng ứng với random index đã chọn đưa vào làm test_data'''\n",
    "    test_data = data.loc[test_sample]\n",
    "\n",
    "    '''Lấy các hàng còn lại trừ test_data làm tập train'''\n",
    "    train_data = data.drop(test_sample)\n",
    "    \n",
    "    return train_data, test_data"
   ]
  },
  {
   "cell_type": "code",
   "execution_count": 116,
   "metadata": {},
   "outputs": [],
   "source": [
    "random.seed(0)\n",
    "train_data, test_data = train_test_split(dataFrame, test_size = 0.25)      #chọn ngẫu nhiên giá trị cho test_size"
   ]
  },
  {
   "cell_type": "code",
   "execution_count": 117,
   "metadata": {},
   "outputs": [
    {
     "data": {
      "text/plain": [
       "array([[5.1, 3.5, 1.4, 0.2, 'Iris-setosa'],\n",
       "       [4.9, 3.0, 1.4, 0.2, 'Iris-setosa'],\n",
       "       [4.7, 3.2, 1.3, 0.2, 'Iris-setosa'],\n",
       "       [4.6, 3.1, 1.5, 0.2, 'Iris-setosa'],\n",
       "       [5.0, 3.6, 1.4, 0.2, 'Iris-setosa'],\n",
       "       [5.4, 3.9, 1.7, 0.4, 'Iris-setosa'],\n",
       "       [4.6, 3.4, 1.4, 0.3, 'Iris-setosa']], dtype=object)"
      ]
     },
     "execution_count": 117,
     "metadata": {},
     "output_type": "execute_result"
    }
   ],
   "source": [
    "#Lấy các giá trị trong tập train gán vào biến data (dạng mảng numpy) để chuẩn bị huấn luyện model\n",
    "data = train_data.values\n",
    "data[:7]    #xem đại diện 7 hàng"
   ]
  },
  {
   "cell_type": "code",
   "execution_count": 118,
   "metadata": {},
   "outputs": [],
   "source": [
    "'''Xây dựng hàm kiểm tra các nút lá có thuộc về cùng một lớp không'''\n",
    "def tieu_chi_dung(data):\n",
    "\n",
    "    '''Truy cập vào cột cuối cùng'''\n",
    "    species_column = data[:, -1]\n",
    "\n",
    "    '''Xem có bao nhiêu only classes trong cột cuối cùng'''\n",
    "    unique_classes = np.unique(species_column)\n",
    "\n",
    "    if len(unique_classes) == 1:\n",
    "        return True\n",
    "    return False"
   ]
  },
  {
   "cell_type": "code",
   "execution_count": 119,
   "metadata": {},
   "outputs": [],
   "source": [
    "'''Xây dựng hàm tìm lớp phổ biến nhất trong dataset'''\n",
    "def popular_class(data):\n",
    "    \n",
    "    species_column = data[:, -1]\n",
    "    unique_classes, counts_unique_classes = np.unique(species_column, return_counts=True)\n",
    "\n",
    "    '''Tìm chỉ số của class lớn nhất (phổ biến nhất) trong các only classes'''\n",
    "    index = counts_unique_classes.argmax()\n",
    "    classify = unique_classes[index]\n",
    "    \n",
    "    return classify"
   ]
  },
  {
   "cell_type": "code",
   "execution_count": 120,
   "metadata": {},
   "outputs": [],
   "source": [
    "'''Xây dựng hàm lựa chọn giá trị tách tốt nhất'''\n",
    "def best_split(data):\n",
    "    \n",
    "    best_splits = {}\n",
    "    _, n_columns = data.shape\n",
    "\n",
    "    '''Duyệt qua hết các cột, trừ cột cuối cùng vì cột cuối là target, các cột kia là feature'''\n",
    "    for column_index in range(n_columns - 1):        \n",
    "        best_splits[column_index] = []\n",
    "\n",
    "        '''Lấy tất cả giá trị từ một cột cụ thể'''\n",
    "        values = data[:, column_index]\n",
    "\n",
    "        '''Lấy các only value từ cột trên'''\n",
    "        unique_values = np.unique(values)\n",
    "\n",
    "        '''Duyệt qua hết các only value ở trên'''\n",
    "        for index in range(len(unique_values)):\n",
    "\n",
    "            '''Tính giá trị trung bình giữa 2 value liên tiếp'''\n",
    "            if index != 0:\n",
    "                current_value = unique_values[index]\n",
    "                previous_value = unique_values[index - 1]\n",
    "                potential_split = (current_value + previous_value) / 2\n",
    "                \n",
    "                '''Thêm các giá trị mới tính vào danh sách đã khởi tạo trước đó'''\n",
    "                best_splits[column_index].append(potential_split)\n",
    "    \n",
    "    return best_splits"
   ]
  },
  {
   "cell_type": "code",
   "execution_count": 121,
   "metadata": {},
   "outputs": [],
   "source": [
    "'''Xây dựng hàm rẽ nhánh giá trị\n",
    "Nếu giá trị của một cột <= giá trị tách tốt nhất (tính ở hàm trên) thì qua bên trái\n",
    "Ngược lại thì qua bên phải\n",
    "'''\n",
    "def split_data(data, split_column, split_value):\n",
    "    \n",
    "    '''Lấy các giá trị trong cột đã chỉ định'''\n",
    "    split_column_values = data[:, split_column]\n",
    "\n",
    "    data_left = data[split_column_values <= split_value]\n",
    "    data_right = data[split_column_values >  split_value]\n",
    "    \n",
    "    return data_left, data_right"
   ]
  },
  {
   "cell_type": "code",
   "execution_count": 122,
   "metadata": {},
   "outputs": [],
   "source": [
    "'''Tính entropy theo công thức đã trình bày '''\n",
    "def cal_entropy(data):\n",
    "    \n",
    "    '''\n",
    "    Do cột Species là string type nên ta phải chuyển thành number\n",
    "    Truy cập vào cột species và đếm số lần các only value xuất hiện\n",
    "    '''\n",
    "    species_column = data[:, -1]\n",
    "    _, counts = np.unique(species_column, return_counts = True)\n",
    "\n",
    "    '''Tính entropy'''\n",
    "    probabilities = counts / counts.sum()\n",
    "    entropy = sum(probabilities * -np.log2(probabilities))\n",
    "     \n",
    "    return entropy"
   ]
  },
  {
   "cell_type": "code",
   "execution_count": 123,
   "metadata": {},
   "outputs": [],
   "source": [
    "'''Từ entropy tính tổng entropy theo công thức đã trình bày'''\n",
    "def cal_overall_entropy(data_left, data_right):\n",
    "     \n",
    "    n = len(data_left) + len(data_right)\n",
    "    p_data_left = len(data_left) / n\n",
    "    p_data_right = len(data_right) / n\n",
    "\n",
    "    sum_entropy =  (p_data_left * cal_entropy(data_left) + p_data_right * cal_entropy(data_right))\n",
    "    \n",
    "    return sum_entropy"
   ]
  },
  {
   "cell_type": "code",
   "execution_count": 124,
   "metadata": {},
   "outputs": [],
   "source": [
    "'''Xây dựng hàm chọn overall entropy nhỏ nhất làm tiêu chí phân tách\n",
    "Duyệt qua hết các giá trị trong từng feature\n",
    "Tính best_value_split \n",
    "Tính sum_entropy \n",
    "Chọn feature có sum_entropy nhỏ nhất\n",
    "Trả về feature tốt nhất và giá trị của feature đó làm tiêu chí tách\n",
    " '''\n",
    "def make_a_decision_best_split(data, best_splits):\n",
    "    \n",
    "    sum_entropy = 9999\n",
    "    for column_index in best_splits:\n",
    "        for value in best_splits[column_index]:\n",
    "            data_left, data_right = split_data(data, split_column=column_index, split_value=value)\n",
    "            current_entropy = cal_overall_entropy(data_left, data_right)\n",
    "\n",
    "            if current_entropy <= sum_entropy:\n",
    "                sum_entropy = current_entropy\n",
    "                best_split_column = column_index\n",
    "                best_split_value = value\n",
    "    \n",
    "    return best_split_column, best_split_value"
   ]
  },
  {
   "cell_type": "code",
   "execution_count": 125,
   "metadata": {},
   "outputs": [],
   "source": [
    "'''Xây dựng decison tree'''\n",
    "def decision_tree(data, so_lan_goi_ham = 0, min_samples = 2, max_depth = 5):\n",
    "    \n",
    "    # data preparations\n",
    "    if so_lan_goi_ham == 0:\n",
    "        global TIEU_DE\n",
    "        TIEU_DE = data.columns\n",
    "        data = data.values\n",
    "    else:\n",
    "        data = data           \n",
    "    \n",
    "    \n",
    "    # Tiêu chí dừng đệ quy\n",
    "    if (tieu_chi_dung(data)) or (len(data) < min_samples) or (so_lan_goi_ham == max_depth):\n",
    "        classify = popular_class(data)\n",
    "        \n",
    "        return classify\n",
    "\n",
    "    \n",
    "    # Đệ quy\n",
    "    else:    \n",
    "        so_lan_goi_ham += 1\n",
    "\n",
    "        # Gọi lại các hàm trên \n",
    "        best_splits = best_split(data)\n",
    "        split_column, split_value = make_a_decision_best_split(data, best_splits)\n",
    "        data_left, data_right = split_data(data, split_column, split_value)\n",
    "        \n",
    "        # Xây dựng điều kiện tách \"Nếu x <= y\"\n",
    "        feature_name = TIEU_DE[split_column]\n",
    "        dieu_kien = \"{} <= {}\".format(feature_name, split_value)\n",
    "        structure_tree = {dieu_kien: []}\n",
    "        \n",
    "        '''\n",
    "        Nếu điều kiện đúng thì gọi đệ quy qua nhánh trái\n",
    "        Nếu điều kiện sai thì gọi đệ quy qua nhánh phải\n",
    "        '''\n",
    "        true_ans = decision_tree(data_left, so_lan_goi_ham, min_samples, max_depth)\n",
    "        false_ans = decision_tree(data_right, so_lan_goi_ham, min_samples, max_depth)\n",
    "        \n",
    "        # Nếu true = false thì không cần hỏi, điều này xảy ra khi dữ liệu đã được phân loại\n",
    "        \n",
    "        if true_ans == false_ans:\n",
    "            structure_tree = true_ans\n",
    "        else:\n",
    "            structure_tree[dieu_kien].append(true_ans)\n",
    "            structure_tree[dieu_kien].append(false_ans)\n",
    "        \n",
    "        return structure_tree"
   ]
  },
  {
   "cell_type": "code",
   "execution_count": 126,
   "metadata": {},
   "outputs": [
    {
     "name": "stdout",
     "output_type": "stream",
     "text": [
      "{'PetalWidthCm <= 0.8': ['Iris-setosa', {'PetalWidthCm <= 1.65': [{'PetalLengthCm <= 4.95': ['Iris-versicolor', 'Iris-virginica']}, 'Iris-virginica']}]}\n"
     ]
    }
   ],
   "source": [
    "# In ra cây\n",
    "tree = decision_tree(train_data, max_depth=3)\n",
    "print(tree)"
   ]
  },
  {
   "cell_type": "code",
   "execution_count": 127,
   "metadata": {},
   "outputs": [],
   "source": [
    "'''\n",
    "Xây dựng hàm predict \n",
    "Input là các feature của một hàng\n",
    "Output là label của hàng đó\n",
    "'''\n",
    "def predict(sample, tree):\n",
    "\n",
    "    # Truy cập vào các điều kiện đã thiết lập ở hàm decision_tree\n",
    "    dieu_kien = list(tree.keys())[0]\n",
    "    feature_name, comparison_operator, value = dieu_kien.split()\n",
    "\n",
    "    ''' \n",
    "    Kiểm tra điều kiện\n",
    "    Nếu đúng thì truy cập vào True_ans, ngược lại thì False_ans\n",
    "    Structure_tree = {dieu_kien: [True_ans, False_ans]}\n",
    "\n",
    "    '''\n",
    "    if sample[feature_name] <= float(value):\n",
    "        ans = tree[dieu_kien][0]\n",
    "    else:\n",
    "        ans = tree[dieu_kien][1]\n",
    "\n",
    "    # Không còn điều kiện để kiểm tra thì dừng\n",
    "    if not isinstance(ans, dict):\n",
    "        return ans\n",
    "    \n",
    "    # Gọi đệ quy\n",
    "    else:\n",
    "        residual_tree = ans\n",
    "        return predict(sample, residual_tree)"
   ]
  },
  {
   "cell_type": "code",
   "execution_count": 128,
   "metadata": {},
   "outputs": [],
   "source": [
    "'''\n",
    "Xây dựng hàm tính accuracy của việc phân loại\n",
    "So khớp label mà hàm predict dự đoán và label gốc, rồi đưa ra accuracy\n",
    "'''\n",
    "def cal_accuracy(dataFrame, tree):\n",
    "\n",
    "    dataFrame[\"classify\"] = dataFrame.apply(predict, axis = 1, args =(tree,))\n",
    "    dataFrame[\"classify_correct\"] = dataFrame[\"classify\"] == dataFrame[\"Species\"]\n",
    "    \n",
    "    accuracy = dataFrame[\"classify_correct\"].mean()\n",
    "    \n",
    "    return accuracy"
   ]
  },
  {
   "cell_type": "code",
   "execution_count": 129,
   "metadata": {},
   "outputs": [
    {
     "data": {
      "text/plain": [
       "0.9473684210526315"
      ]
     },
     "execution_count": 129,
     "metadata": {},
     "output_type": "execute_result"
    }
   ],
   "source": [
    "# Kiểm tra xem model dự đoán chính xác được bao nhiêu %\n",
    "cal_accuracy(test_data, tree)"
   ]
  }
 ],
 "metadata": {
  "kernelspec": {
   "display_name": "Python 3",
   "language": "python",
   "name": "python3"
  },
  "language_info": {
   "codemirror_mode": {
    "name": "ipython",
    "version": 3
   },
   "file_extension": ".py",
   "mimetype": "text/x-python",
   "name": "python",
   "nbconvert_exporter": "python",
   "pygments_lexer": "ipython3",
   "version": "3.11.5"
  }
 },
 "nbformat": 4,
 "nbformat_minor": 2
}
