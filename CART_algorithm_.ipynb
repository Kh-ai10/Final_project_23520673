{
 "cells": [
  {
   "cell_type": "code",
   "execution_count": 88,
   "metadata": {},
   "outputs": [],
   "source": [
    "#import module\n",
    "from collections import Counter\n",
    "import numpy as np"
   ]
  },
  {
   "cell_type": "code",
   "execution_count": 89,
   "metadata": {},
   "outputs": [],
   "source": [
    "# Build Node\n",
    "class Node:\n",
    "\tdef __init__(self, feature=None, value=None, results=None, true_branch=None, false_branch=None):\n",
    "\t\tself.feature = feature #Thuộc tính để phân chia\n",
    "\t\tself.value = value\t # Giá trị của thuộc tính phân chia\n",
    "\t\tself.results = results # Lưu label của class nếu nó là leave\n",
    "\t\tself.true_branch = true_branch # Rẽ sanh nhánh T-branch nếu giá trị đúng với thuộc tính\n",
    "\t\tself.false_branch = false_branch # Rẽ sang nhánh F-branch nếu giá trị sai với thuộc tính"
   ]
  },
  {
   "cell_type": "code",
   "execution_count": 90,
   "metadata": {},
   "outputs": [],
   "source": [
    "'''Build function calculate gini\n",
    "Tính số lần xuất hiện của data bằng cách sử dụng np.bincount\n",
    "Tính xác suất của từng phần tử và dùng công thức đã trình bày để tính gini\n",
    "'''\n",
    "\n",
    "def gini(data):\n",
    "\tdem = np.bincount(data)\n",
    "\tprobabilities = dem / len(data)\n",
    "\tgini_inpuri = 1 - np.sum([p*p for p in probabilities if p > 0])     \n",
    "\treturn gini_inpuri"
   ]
  },
  {
   "cell_type": "code",
   "execution_count": 91,
   "metadata": {},
   "outputs": [],
   "source": [
    "'''\n",
    "Build split_data function\n",
    "Dựa vào feature và value để split data\n",
    "Giá trị <= thì qua nhánh true, giá trị > thì qua nhánh false\n",
    "Trả về các subset gồm feature(true_X, false_X) và label(true_y, false_y)\n",
    "'''\n",
    "\n",
    "def split_data(X, y, feature, value):\n",
    "\ttrue_line = np.where(X[:, feature] <= value)[0]\n",
    "\tfalse_line = np.where(X[:, feature] > value)[0]\n",
    "\ttrue_X, true_y = X[true_line], y[true_line]\n",
    "\tfalse_X, false_y = X[false_line], y[false_line]\n",
    "\treturn true_X, true_y, false_X, false_y"
   ]
  },
  {
   "cell_type": "code",
   "execution_count": 92,
   "metadata": {},
   "outputs": [],
   "source": [
    "'''\n",
    "Build tree function by CART algorithm\n",
    "input là feature X và label y\n",
    "Đầu tiên, kiểm tra các label có đồng nhất không, nếu có trả về leave có label tương ứng\n",
    "Lặp qua các feature, tính gini, tính total_gini và chọn total_gini nhỏ nhất làm tiêu chí split data\n",
    "Đệ quy để xây dựng các true_branch và false_branch\n",
    "output là leave được gắn label tương ứng\n",
    "'''\n",
    "\n",
    "def decision_tree(X, y, math_depth = 0):\n",
    "\tif len(set(y)) == 1:\n",
    "\t\treturn Node(results = y[0])\n",
    "\n",
    "\tif math_depth == 0:\n",
    "\t\treturn Node(results = np.mean(y))\n",
    "\t\n",
    "\tbest_total_gini = float('inf')\n",
    "\ttieu_chuan = None\n",
    "\tbest_sets = None\n",
    "\tn_features = X.shape[1]\n",
    "\n",
    "\t#current_gini = gini(y)\n",
    "\n",
    "\tfor feature in range(n_features):\n",
    "\t\tfeature_values = set(X[:, feature])\n",
    "\t\tfor value in feature_values:\n",
    "\t\t\ttrue_X, true_y, false_X, false_y = split_data(X, y, feature, value)\n",
    "\t\t\ttrue_gini = gini(true_y)\n",
    "\t\t\tfalse_gini = gini(false_y)\n",
    "\t\t\tp = len(true_y) / len(y)\n",
    "\t\t\ttotal_gini =  p * true_gini + (1 - p) * false_gini\n",
    "\n",
    "\t\t\tif total_gini < best_total_gini:\n",
    "\t\t\t\tbest_total_gini = total_gini\n",
    "\t\t\t\ttieu_chuan = (feature, value)\n",
    "\t\t\t\tbest_sets = (true_X, true_y, false_X, false_y)\n",
    "\n",
    "\tif best_sets is not None and best_total_gini < total_gini:\n",
    "\t\tT_branch = decision_tree(best_sets[0], best_sets[1], math_depth - 1)\n",
    "\t\tF_branch = decision_tree(best_sets[2], best_sets[3], math_depth - 1)\n",
    "\t\treturn Node(feature = tieu_chuan[0], value = tieu_chuan[1], true_branch = T_branch, false_branch = F_branch)\n",
    "\n",
    "\treturn Node(results = np.mean(y))\n"
   ]
  },
  {
   "cell_type": "code",
   "execution_count": 93,
   "metadata": {},
   "outputs": [],
   "source": [
    "'''\n",
    "Build predict function\n",
    "Đệ quy cho đến khi tìm thấy leave, trả về label ứng với nó\n",
    "'''\n",
    "def predict(tree, sample):\n",
    "\tif tree.results is not None:\n",
    "\t\treturn tree.results\n",
    "\telse:\n",
    "\t\tbranch = tree.false_branch\n",
    "\t\tif sample[tree.feature] <= tree.value:\n",
    "\t\t\tbranch = tree.true_branch\n",
    "\t\treturn predict(branch, sample)"
   ]
  },
  {
   "cell_type": "code",
   "execution_count": 94,
   "metadata": {},
   "outputs": [
    {
     "name": "stdout",
     "output_type": "stream",
     "text": [
      "Prediction for sample [2 2]: 11\n",
      "Prediction for sample [2 1]: 32\n",
      "Prediction for sample [2 0]: 93\n",
      "Prediction for sample [1 1]: 4\n",
      "Prediction for sample [1 2]: 65\n",
      "Prediction for sample [1 0]: 26\n",
      "Prediction for sample [0 0]: 87\n",
      "Prediction for sample [0 1]: 48\n",
      "Prediction for sample [0 2]: 19\n",
      "Prediction for sample [6 6]: 70\n"
     ]
    }
   ],
   "source": [
    "#Testing\n",
    "X = np.array([[2, 2], [2, 1], [2, 0], [1, 1],[1, 2], [1, 0], [0, 0], [0, 1], [0, 2], [6, 6]])\n",
    "y = np.array([11, 32, 93, 4, 65, 26, 87, 48, 19, 70])\n",
    "\n",
    "# Building the tree\n",
    "tree = decision_tree(X, y, math_depth = 5)  #có thể thay đổi math_depth tùy vào kích thước dữ liệu\n",
    "\n",
    "for sample in X:\n",
    "    prediction = predict(tree, sample)\n",
    "    print(f\"Prediction for sample {sample}: {prediction}\")"
   ]
  }
 ],
 "metadata": {
  "kernelspec": {
   "display_name": "Python 3",
   "language": "python",
   "name": "python3"
  },
  "language_info": {
   "codemirror_mode": {
    "name": "ipython",
    "version": 3
   },
   "file_extension": ".py",
   "mimetype": "text/x-python",
   "name": "python",
   "nbconvert_exporter": "python",
   "pygments_lexer": "ipython3",
   "version": "3.11.5"
  }
 },
 "nbformat": 4,
 "nbformat_minor": 2
}
